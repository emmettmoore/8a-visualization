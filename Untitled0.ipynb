{
 "metadata": {
  "name": "",
  "signature": "sha256:c6dc8f84ab2c09b0f85a98023bcc274a7997def5975e8e7fdc38f891daed6022"
 },
 "nbformat": 3,
 "nbformat_minor": 0,
 "worksheets": [
  {
   "cells": [
    {
     "cell_type": "code",
     "collapsed": false,
     "input": [
      "import pandas as pd\n",
      "import numpy as np\n",
      "import json"
     ],
     "language": "python",
     "metadata": {},
     "outputs": [],
     "prompt_number": 1
    },
    {
     "cell_type": "code",
     "collapsed": false,
     "input": [
      "df = pd.read_json('data/8a.json')"
     ],
     "language": "python",
     "metadata": {},
     "outputs": [],
     "prompt_number": 3
    },
    {
     "cell_type": "code",
     "collapsed": false,
     "input": [
      "df = df['crags']"
     ],
     "language": "python",
     "metadata": {},
     "outputs": [],
     "prompt_number": 7
    },
    {
     "cell_type": "code",
     "collapsed": false,
     "input": [
      "df"
     ],
     "language": "python",
     "metadata": {},
     "outputs": [
      {
       "metadata": {},
       "output_type": "pyout",
       "prompt_number": 8,
       "text": [
        "0    {u'route': [{u'index': u'1628', u'name': u'*Ch...\n",
        "1    {u'route': [{u'index': u'453', u'name': u'Rico...\n",
        "2    {u'route': [{u'index': u'690', u'name': u'Card...\n",
        "3    {u'route': [{u'index': u'673', u'name': u'49',...\n",
        "4    {u'route': [{u'index': u'719', u'name': u'Fear...\n",
        "5    {u'route': [{u'index': u'608', u'name': u'Tech...\n",
        "Name: crags, dtype: object"
       ]
      }
     ],
     "prompt_number": 8
    },
    {
     "cell_type": "code",
     "collapsed": false,
     "input": [
      "with open('data/8a.json') as f:\n",
      "    crags = json.load(f)"
     ],
     "language": "python",
     "metadata": {},
     "outputs": [],
     "prompt_number": 9
    },
    {
     "cell_type": "code",
     "collapsed": false,
     "input": [
      "c = pd"
     ],
     "language": "python",
     "metadata": {},
     "outputs": []
    }
   ],
   "metadata": {}
  }
 ]
}